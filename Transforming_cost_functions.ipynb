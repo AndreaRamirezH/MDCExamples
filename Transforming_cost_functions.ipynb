{
 "cells": [
  {
   "cell_type": "markdown",
   "metadata": {},
   "source": [
    "# Transforming cost functions using MinimallyDisruptiveCurves.jl"
   ]
  },
  {
   "cell_type": "markdown",
   "metadata": {},
   "source": [
    "The premise of MinimallyDisruptiveCurves.jl is to\n",
    "> move as far away as possible from the initial parameters, while keeping model behaviour as similar as possible.\n",
    "\n",
    "(in other words, while keeping a cost function as low as possible).\n",
    "\n",
    "The words *as far away as possible* imply some metric on the space of parameters. A lot of key workflows involve manipulating this metric. For instance, by\n",
    "\n",
    "- fixing/freeing parameters that the minimally disruptive curve can change\n",
    "- looking at relative, rather than absolute changes in parameters\n",
    "- biasing parameters to have a larger/smaller influence on the metric, so that minimally disruptive curves are encouraged (not /) to align with them\n",
    "- something custom.\n",
    "\n",
    "Each of these corresponds to a **transformation** of parameter space. The easiest way to do all of these things is by **reparameterising** the cost function $C(\\theta)$. We take a transformation of parameter space: $T(\\theta)$, and a new cost function $D$ satisfying\n",
    "$$ D[T(\\theta)] = C(\\theta). $$\n",
    "\n",
    "**The purpose of this notebook is to show you an easy way to make/perform these reparameterisations.**\n",
    "\n",
    "The (slight) complication is that cost functions compatible with MinimallyDisruptiveCurves.jl must be **differentiable**. That is, they have two methods:\n",
    "```\n",
    "## method 1\n",
    "function cost(𝜃)\n",
    "    ...\n",
    "    return cost\n",
    "end\n",
    "\n",
    "## method 2\n",
    "function cost(𝜃, grad_template)\n",
    "    ....\n",
    "    grad_template[:] = ∇C    # mutate to get gradient wrt parameters\n",
    "    \n",
    "    return cost\n",
    "end\n",
    "\n",
    "```\n",
    "\n",
    "So we want an easy way of applying composable transformations to cost functions, which also recompute the gradient automatically. And that is what we shall provide, through the `TransformationStructure` type. \n",
    "\n",
    "First let's make an arbitrary cost function. We'll keep it very simple for didactic purposes. "
   ]
  },
  {
   "cell_type": "code",
   "execution_count": 3,
   "metadata": {},
   "outputs": [
    {
     "name": "stdout",
     "output_type": "stream",
     "text": [
      "C(θ₀, g) = 0.0\n",
      "g = [0.0, 0.0, 0.0]\n"
     ]
    }
   ],
   "source": [
    "θ₀ = [5.,6.,7.]\n",
    "C(θ) = sum( @. (θ - θ₀)^2)\n",
    "\n",
    "function C(θ, g)\n",
    "    g[:] = @. 2(θ-θ₀)\n",
    "    return C(θ)\n",
    "end\n",
    "\n",
    "g = deepcopy(θ₀)\n",
    "@show C(θ₀, g)\n",
    "@show g;\n"
   ]
  },
  {
   "cell_type": "markdown",
   "metadata": {},
   "source": [
    "Next let's build a transformation structure:"
   ]
  },
  {
   "cell_type": "code",
   "execution_count": 4,
   "metadata": {},
   "outputs": [
    {
     "data": {
      "text/plain": [
       "TransformationStructure{typeof(T),typeof(Tinv)}(\"simple_transform\", T, Tinv)"
      ]
     },
     "execution_count": 4,
     "metadata": {},
     "output_type": "execute_result"
    }
   ],
   "source": [
    "T(p) = @. p + 1\n",
    "Tinv(p) = @. p - 1\n",
    "\n",
    "using MinimallyDisruptiveCurves\n",
    "Trf = TransformationStructure(\"simple_transform\", T, Tinv)"
   ]
  },
  {
   "cell_type": "markdown",
   "metadata": {},
   "source": [
    "and reparameterise the cost function with it..."
   ]
  },
  {
   "cell_type": "code",
   "execution_count": 6,
   "metadata": {},
   "outputs": [
    {
     "data": {
      "text/plain": [
       "(DiffCost{MinimallyDisruptiveCurves.var\"#new_cost#35\"{typeof(C),TransformationStructure{typeof(T),typeof(Tinv)}},MinimallyDisruptiveCurves.var\"#new_cost2#36\"{typeof(C),TransformationStructure{typeof(T),typeof(Tinv)},typeof(ForwardDiff.jacobian)}}(MinimallyDisruptiveCurves.var\"#new_cost#35\"{typeof(C),TransformationStructure{typeof(T),typeof(Tinv)}}(C, TransformationStructure{typeof(T),typeof(Tinv)}(\"simple_transform\", T, Tinv)), MinimallyDisruptiveCurves.var\"#new_cost2#36\"{typeof(C),TransformationStructure{typeof(T),typeof(Tinv)},typeof(ForwardDiff.jacobian)}(C, TransformationStructure{typeof(T),typeof(Tinv)}(\"simple_transform\", T, Tinv), ForwardDiff.jacobian)), [6.0, 7.0, 8.0])"
      ]
     },
     "execution_count": 6,
     "metadata": {},
     "output_type": "execute_result"
    }
   ],
   "source": [
    "D, θnew = transform_cost(C, θ₀, Trf)"
   ]
  },
  {
   "cell_type": "code",
   "execution_count": 10,
   "metadata": {},
   "outputs": [
    {
     "name": "stdout",
     "output_type": "stream",
     "text": [
      "θnew = [6.0, 7.0, 8.0]\n",
      "D(θnew, g) = 0.0\n",
      "g = [0.0, 0.0, 0.0]\n"
     ]
    }
   ],
   "source": [
    "@show θnew\n",
    "@show D(θnew, g)\n",
    "@show g;"
   ]
  },
  {
   "cell_type": "markdown",
   "metadata": {},
   "source": [
    "Done! Now we have made some preloaded `TransformationStructure`s to get you started:"
   ]
  },
  {
   "cell_type": "code",
   "execution_count": 14,
   "metadata": {},
   "outputs": [],
   "source": [
    "LA  = logabs_transform(θ₀);"
   ]
  },
  {
   "cell_type": "markdown",
   "metadata": {},
   "source": [
    "This one transforms parameters to their absolute values, then takes the logs. Useful if you want to quantify relative (instead of absolute) changes to parameters"
   ]
  },
  {
   "cell_type": "code",
   "execution_count": 17,
   "metadata": {},
   "outputs": [],
   "source": [
    "idxs = [1,3]\n",
    "biases = [400.,1/400]\n",
    "BA = bias_transform(θnew, idxs, biases );"
   ]
  },
  {
   "cell_type": "markdown",
   "metadata": {},
   "source": [
    "This one does the transformation \n",
    "$$ θ[i] \\to b_i θ[i] $$\n",
    "for $i$ in idxs and $b_i$ in biases."
   ]
  },
  {
   "cell_type": "code",
   "execution_count": 20,
   "metadata": {},
   "outputs": [],
   "source": [
    "FA = fix_params(θ₀, idxs); #is self explanatory\n",
    "OFA = only_free_params(θ₀, idxs); # opposite of above: all except params[idxs] are fixed."
   ]
  },
  {
   "cell_type": "markdown",
   "metadata": {},
   "source": [
    "Any of these transformations can be composably applied to any cost function amenable to MinimallyDisruptiveCurves.jl. And as we showed, you can make your own. "
   ]
  },
  {
   "cell_type": "code",
   "execution_count": null,
   "metadata": {},
   "outputs": [],
   "source": []
  }
 ],
 "metadata": {
  "kernelspec": {
   "display_name": "Julia 1.5.0",
   "language": "julia",
   "name": "julia-1.5"
  },
  "language_info": {
   "file_extension": ".jl",
   "mimetype": "application/julia",
   "name": "julia",
   "version": "1.5.0"
  }
 },
 "nbformat": 4,
 "nbformat_minor": 2
}
